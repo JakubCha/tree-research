{
 "cells": [
  {
   "cell_type": "code",
   "execution_count": 1,
   "metadata": {},
   "outputs": [],
   "source": [
    "%load_ext autoreload\n",
    "%autoreload 2"
   ]
  },
  {
   "cell_type": "code",
   "execution_count": 2,
   "metadata": {},
   "outputs": [],
   "source": [
    "%matplotlib inline\n",
    "import math\n",
    "import matplotlib\n",
    "import pandas\n",
    "import glob\n",
    "import ast\n",
    "import numpy as np\n",
    "import matplotlib.pyplot as plt\n",
    "from sklearn import metrics\n",
    "from sklearn import preprocessing\n",
    "import seaborn as sns\n",
    "from sklearn.linear_model import LinearRegression\n",
    "from sklearn.model_selection import train_test_split\n",
    "from sklearn.metrics import mean_squared_error, r2_score\n",
    "\n",
    "\n",
    "\n",
    "def mean_absolute_percentage_error(y_true, y_pred):\n",
    "    return np.mean(np.abs((y_true - y_pred) / y_true)) * 100\n",
    "\n"
   ]
  },
  {
   "cell_type": "code",
   "execution_count": 3,
   "metadata": {},
   "outputs": [],
   "source": [
    "from diameter_tools import get_trunk_diam"
   ]
  },
  {
   "cell_type": "code",
   "execution_count": 4,
   "metadata": {},
   "outputs": [
    {
     "name": "stderr",
     "output_type": "stream",
     "text": [
      "/home/sir/.virtualenvs/tree/lib/python3.7/site-packages/ipykernel_launcher.py:9: FutureWarning: Sorting because non-concatenation axis is not aligned. A future version\n",
      "of pandas will change to not sort by default.\n",
      "\n",
      "To accept the future behavior, pass 'sort=False'.\n",
      "\n",
      "To retain the current behavior and silence the warning, pass 'sort=True'.\n",
      "\n",
      "  if __name__ == '__main__':\n"
     ]
    }
   ],
   "source": [
    "def load_data() -> pandas.DataFrame:\n",
    "    a = glob.glob('data/*.csv')\n",
    "\n",
    "    data = None\n",
    "    l = []\n",
    "    for f in a:\n",
    "        dataset = pandas.read_csv(f)\n",
    "        l.append(dataset)\n",
    "    data = pandas.concat(l)\n",
    "    return data\n",
    "\n",
    "data = load_data()\n"
   ]
  },
  {
   "cell_type": "code",
   "execution_count": 5,
   "metadata": {},
   "outputs": [],
   "source": [
    "def get_species_list(data: pandas.DataFrame) -> pandas.DataFrame:\n",
    "    sp = pandas.DataFrame()\n",
    "    sp['Nazwa łacińska'] = data['Nazwa łacińska']\n",
    "    sp['Nazwa polska'] = data['Nazwa polska']\n",
    "    species_unique = sp.drop_duplicates()\n",
    "    return species_unique\n",
    "\n",
    "species_unique = get_species_list(data)\n"
   ]
  },
  {
   "cell_type": "code",
   "execution_count": 6,
   "metadata": {},
   "outputs": [],
   "source": [
    "data['norm'] = data['Obwód pnia w cm'].fillna('0')\n",
    "data.dropna(subset=['Obwód pnia w cm', 'norm',], inplace=True)\n",
    "data['norm'] = data['norm'].apply(pandas.Series)"
   ]
  },
  {
   "cell_type": "code",
   "execution_count": 7,
   "metadata": {},
   "outputs": [
    {
     "name": "stdout",
     "output_type": "stream",
     "text": [
      "34 malformed node or string: 34 <class 'int'>\n",
      "32 malformed node or string: 32 <class 'int'>\n",
      "38 malformed node or string: 38 <class 'int'>\n",
      "8 malformed node or string: 8 <class 'int'>\n",
      "40 malformed node or string: 40 <class 'int'>\n",
      "50 malformed node or string: 50 <class 'int'>\n",
      "61 malformed node or string: 61 <class 'int'>\n",
      "36 malformed node or string: 36 <class 'int'>\n",
      "54 malformed node or string: 54 <class 'int'>\n",
      "67 malformed node or string: 67 <class 'int'>\n",
      "63 malformed node or string: 63 <class 'int'>\n",
      "57.0 malformed node or string: 57.0 <class 'float'>\n"
     ]
    }
   ],
   "source": [
    "data['normalized_trunk_diam'] = data['norm'].apply(get_trunk_diam)\n",
    "data['normalized_trunk_diam'] = data['normalized_trunk_diam'] / 100"
   ]
  },
  {
   "cell_type": "code",
   "execution_count": 8,
   "metadata": {},
   "outputs": [],
   "source": [
    "data['height'] = data['Wysokość w m'].fillna('0')\n",
    "data['height'] = data['height'].str.replace(',', '.')\n",
    "data['height'] = data['height'].astype(np.float)"
   ]
  },
  {
   "cell_type": "code",
   "execution_count": 9,
   "metadata": {},
   "outputs": [],
   "source": [
    "df2 = data[['height', 'normalized_trunk_diam']]"
   ]
  },
  {
   "cell_type": "code",
   "execution_count": 10,
   "metadata": {},
   "outputs": [
    {
     "name": "stderr",
     "output_type": "stream",
     "text": [
      "/home/sir/.virtualenvs/tree/lib/python3.7/site-packages/ipykernel_launcher.py:1: SettingWithCopyWarning: \n",
      "A value is trying to be set on a copy of a slice from a DataFrame\n",
      "\n",
      "See the caveats in the documentation: http://pandas.pydata.org/pandas-docs/stable/indexing.html#indexing-view-versus-copy\n",
      "  \"\"\"Entry point for launching an IPython kernel.\n"
     ]
    }
   ],
   "source": [
    "df2.dropna(inplace=True)"
   ]
  },
  {
   "cell_type": "code",
   "execution_count": 11,
   "metadata": {},
   "outputs": [],
   "source": [
    "COLUMNS = ['SREDNICA_KORONY', 'OBWOD', 'O3', 'NO2', 'SO2', 'PM2.5', ]\n",
    "\n",
    "trees = pandas.read_csv('data/trees.csv', sep=';')\n"
   ]
  },
  {
   "cell_type": "code",
   "execution_count": 12,
   "metadata": {},
   "outputs": [
    {
     "data": {
      "text/html": [
       "<div>\n",
       "<style scoped>\n",
       "    .dataframe tbody tr th:only-of-type {\n",
       "        vertical-align: middle;\n",
       "    }\n",
       "\n",
       "    .dataframe tbody tr th {\n",
       "        vertical-align: top;\n",
       "    }\n",
       "\n",
       "    .dataframe thead th {\n",
       "        text-align: right;\n",
       "    }\n",
       "</style>\n",
       "<table border=\"1\" class=\"dataframe\">\n",
       "  <thead>\n",
       "    <tr style=\"text-align: right;\">\n",
       "      <th></th>\n",
       "      <th>OBWOD</th>\n",
       "      <th>SREDNICA_KORONY</th>\n",
       "      <th>O3</th>\n",
       "      <th>NO2</th>\n",
       "      <th>SO2</th>\n",
       "      <th>PM2.5</th>\n",
       "    </tr>\n",
       "  </thead>\n",
       "  <tbody>\n",
       "    <tr>\n",
       "      <th>count</th>\n",
       "      <td>6561.000000</td>\n",
       "      <td>6561.000000</td>\n",
       "      <td>6552.000000</td>\n",
       "      <td>6552.000000</td>\n",
       "      <td>6552.000000</td>\n",
       "      <td>6552.000000</td>\n",
       "    </tr>\n",
       "    <tr>\n",
       "      <th>mean</th>\n",
       "      <td>86.275415</td>\n",
       "      <td>3.915303</td>\n",
       "      <td>151.431181</td>\n",
       "      <td>88.133532</td>\n",
       "      <td>10.511538</td>\n",
       "      <td>7.938523</td>\n",
       "    </tr>\n",
       "    <tr>\n",
       "      <th>std</th>\n",
       "      <td>75.666527</td>\n",
       "      <td>2.303517</td>\n",
       "      <td>127.897838</td>\n",
       "      <td>74.448851</td>\n",
       "      <td>8.840640</td>\n",
       "      <td>6.789392</td>\n",
       "    </tr>\n",
       "    <tr>\n",
       "      <th>min</th>\n",
       "      <td>0.000000</td>\n",
       "      <td>0.500000</td>\n",
       "      <td>0.000000</td>\n",
       "      <td>0.000000</td>\n",
       "      <td>0.000000</td>\n",
       "      <td>0.000000</td>\n",
       "    </tr>\n",
       "    <tr>\n",
       "      <th>25%</th>\n",
       "      <td>29.000000</td>\n",
       "      <td>2.000000</td>\n",
       "      <td>36.900000</td>\n",
       "      <td>19.800000</td>\n",
       "      <td>2.800000</td>\n",
       "      <td>2.800000</td>\n",
       "    </tr>\n",
       "    <tr>\n",
       "      <th>50%</th>\n",
       "      <td>82.000000</td>\n",
       "      <td>4.000000</td>\n",
       "      <td>136.100000</td>\n",
       "      <td>79.400000</td>\n",
       "      <td>8.500000</td>\n",
       "      <td>8.500000</td>\n",
       "    </tr>\n",
       "    <tr>\n",
       "      <th>75%</th>\n",
       "      <td>123.000000</td>\n",
       "      <td>5.000000</td>\n",
       "      <td>226.800000</td>\n",
       "      <td>130.400000</td>\n",
       "      <td>17.000000</td>\n",
       "      <td>11.300000</td>\n",
       "    </tr>\n",
       "    <tr>\n",
       "      <th>max</th>\n",
       "      <td>2222.000000</td>\n",
       "      <td>44.000000</td>\n",
       "      <td>932.700000</td>\n",
       "      <td>544.300000</td>\n",
       "      <td>65.200000</td>\n",
       "      <td>48.200000</td>\n",
       "    </tr>\n",
       "  </tbody>\n",
       "</table>\n",
       "</div>"
      ],
      "text/plain": [
       "             OBWOD  SREDNICA_KORONY           O3          NO2          SO2  \\\n",
       "count  6561.000000      6561.000000  6552.000000  6552.000000  6552.000000   \n",
       "mean     86.275415         3.915303   151.431181    88.133532    10.511538   \n",
       "std      75.666527         2.303517   127.897838    74.448851     8.840640   \n",
       "min       0.000000         0.500000     0.000000     0.000000     0.000000   \n",
       "25%      29.000000         2.000000    36.900000    19.800000     2.800000   \n",
       "50%      82.000000         4.000000   136.100000    79.400000     8.500000   \n",
       "75%     123.000000         5.000000   226.800000   130.400000    17.000000   \n",
       "max    2222.000000        44.000000   932.700000   544.300000    65.200000   \n",
       "\n",
       "             PM2.5  \n",
       "count  6552.000000  \n",
       "mean      7.938523  \n",
       "std       6.789392  \n",
       "min       0.000000  \n",
       "25%       2.800000  \n",
       "50%       8.500000  \n",
       "75%      11.300000  \n",
       "max      48.200000  "
      ]
     },
     "execution_count": 12,
     "metadata": {},
     "output_type": "execute_result"
    }
   ],
   "source": [
    "trees.describe()"
   ]
  },
  {
   "cell_type": "code",
   "execution_count": 13,
   "metadata": {},
   "outputs": [
    {
     "data": {
      "text/plain": [
       "0.5652789778593613"
      ]
     },
     "execution_count": 13,
     "metadata": {},
     "output_type": "execute_result"
    }
   ],
   "source": [
    "trees.dropna(inplace=True)\n",
    "trees = trees[trees['OBWOD'] < 300]\n",
    "trees = trees[trees['SREDNICA_KORONY'] < 20]\n",
    "metrics.r2_score(trees['O3'], trees['NO2'])"
   ]
  },
  {
   "cell_type": "code",
   "execution_count": 14,
   "metadata": {},
   "outputs": [
    {
     "data": {
      "text/plain": [
       "LabelEncoder()"
      ]
     },
     "execution_count": 14,
     "metadata": {},
     "output_type": "execute_result"
    }
   ],
   "source": [
    "le = preprocessing.LabelEncoder()\n",
    "le.fit(trees['GATUNEK_Scientific'])"
   ]
  },
  {
   "cell_type": "code",
   "execution_count": 15,
   "metadata": {},
   "outputs": [],
   "source": [
    "le.classes_\n",
    "transformed = le.transform(trees['GATUNEK_Scientific'])"
   ]
  },
  {
   "cell_type": "code",
   "execution_count": 16,
   "metadata": {},
   "outputs": [],
   "source": [
    "trees['SPECIES'] = transformed"
   ]
  },
  {
   "cell_type": "code",
   "execution_count": 17,
   "metadata": {},
   "outputs": [
    {
     "data": {
      "text/plain": [
       "array([42, 46, 73, 76, 74,  2, 24,  3,  4, 38, 13, 58, 40, 14, 18,  9, 36,\n",
       "       22, 43, 44, 45, 35, 30, 19, 61, 72,  6, 20, 52, 55, 29, 32, 75, 77,\n",
       "       68, 25,  8,  1, 63, 59,  5, 71, 47, 41, 60, 62, 69, 49, 51, 27, 26,\n",
       "       17,  7, 31,  0, 21, 12, 34, 11, 56, 48, 28, 67, 64, 70, 57, 50, 54,\n",
       "       23, 33, 53, 10, 66, 16, 65, 39, 15, 37])"
      ]
     },
     "execution_count": 17,
     "metadata": {},
     "output_type": "execute_result"
    }
   ],
   "source": [
    "trees['SPECIES'].unique()"
   ]
  },
  {
   "cell_type": "code",
   "execution_count": 18,
   "metadata": {},
   "outputs": [],
   "source": [
    "top = trees.SPECIES.value_counts()\n",
    "top.sort_values(ascending=False, inplace=True)\n",
    "tops = list(top[:5].index)\n"
   ]
  },
  {
   "cell_type": "code",
   "execution_count": 19,
   "metadata": {},
   "outputs": [
    {
     "data": {
      "text/plain": [
       "array(['Tilia cordata', 'Acer platanoides', 'Fraxinus pennsylvanica',\n",
       "       'Quercus robur', 'Tilia  sp.'], dtype=object)"
      ]
     },
     "execution_count": 19,
     "metadata": {},
     "output_type": "execute_result"
    }
   ],
   "source": [
    "le.inverse_transform(tops)"
   ]
  },
  {
   "cell_type": "code",
   "execution_count": 20,
   "metadata": {},
   "outputs": [],
   "source": [
    "data['trunk_diam_cm'] = data['normalized_trunk_diam'] * 100"
   ]
  },
  {
   "cell_type": "code",
   "execution_count": 21,
   "metadata": {},
   "outputs": [],
   "source": [
    "gatunki = pandas.read_csv('gatunki_warszawa_typ.csv')\n"
   ]
  },
  {
   "cell_type": "code",
   "execution_count": 22,
   "metadata": {},
   "outputs": [],
   "source": [
    "data['GATUNEK_Scientific'] = data['Nazwa łacińska']"
   ]
  },
  {
   "cell_type": "code",
   "execution_count": 23,
   "metadata": {},
   "outputs": [],
   "source": [
    "newdata = data[data['GATUNEK_Scientific'].isin(trees['GATUNEK_Scientific'])]"
   ]
  },
  {
   "cell_type": "code",
   "execution_count": 24,
   "metadata": {},
   "outputs": [
    {
     "data": {
      "text/html": [
       "<div>\n",
       "<style scoped>\n",
       "    .dataframe tbody tr th:only-of-type {\n",
       "        vertical-align: middle;\n",
       "    }\n",
       "\n",
       "    .dataframe tbody tr th {\n",
       "        vertical-align: top;\n",
       "    }\n",
       "\n",
       "    .dataframe thead th {\n",
       "        text-align: right;\n",
       "    }\n",
       "</style>\n",
       "<table border=\"1\" class=\"dataframe\">\n",
       "  <thead>\n",
       "    <tr style=\"text-align: right;\">\n",
       "      <th></th>\n",
       "      <th>Aktualność danych na dzień</th>\n",
       "      <th>Jednostka zarządzająca</th>\n",
       "      <th>Nazwa polska</th>\n",
       "      <th>Nazwa łacińska</th>\n",
       "      <th>Numer inwentaryzacyjny</th>\n",
       "      <th>Obwód pnia w cm</th>\n",
       "      <th>Wysokość w m</th>\n",
       "      <th>gtype</th>\n",
       "      <th>height</th>\n",
       "      <th>id</th>\n",
       "      <th>id.1</th>\n",
       "      <th>imgurl</th>\n",
       "      <th>width</th>\n",
       "      <th>x</th>\n",
       "      <th>y</th>\n",
       "      <th>norm</th>\n",
       "      <th>normalized_trunk_diam</th>\n",
       "      <th>trunk_diam_cm</th>\n",
       "      <th>GATUNEK_Scientific</th>\n",
       "    </tr>\n",
       "  </thead>\n",
       "  <tbody>\n",
       "    <tr>\n",
       "      <th>0</th>\n",
       "      <td>24.04.2012</td>\n",
       "      <td>Dzielnica Targówek</td>\n",
       "      <td>robinia  sp.</td>\n",
       "      <td>Robinia  sp.</td>\n",
       "      <td>D253003</td>\n",
       "      <td>98</td>\n",
       "      <td>14</td>\n",
       "      <td>2001.0</td>\n",
       "      <td>NaN</td>\n",
       "      <td>AAKG9OAAnAAF1O1AAG</td>\n",
       "      <td>AAKG9OAAnAAF1O1AAG</td>\n",
       "      <td>http://mapa.um.warszawa.pl/mvimages/san13/fig/...</td>\n",
       "      <td>3.0</td>\n",
       "      <td>7.503078e+06</td>\n",
       "      <td>5.792584e+06</td>\n",
       "      <td>98</td>\n",
       "      <td>0.311944</td>\n",
       "      <td>31.194369</td>\n",
       "      <td>Robinia  sp.</td>\n",
       "    </tr>\n",
       "    <tr>\n",
       "      <th>1</th>\n",
       "      <td>24.04.2012</td>\n",
       "      <td>Dzielnica Targówek</td>\n",
       "      <td>robinia  sp.</td>\n",
       "      <td>Robinia  sp.</td>\n",
       "      <td>D253005</td>\n",
       "      <td>17, 9, 8, 10, 11</td>\n",
       "      <td>5</td>\n",
       "      <td>2001.0</td>\n",
       "      <td>NaN</td>\n",
       "      <td>AAKG9OAAnAAF1O1AAI</td>\n",
       "      <td>AAKG9OAAnAAF1O1AAI</td>\n",
       "      <td>http://mapa.um.warszawa.pl/mvimages/san13/fig/...</td>\n",
       "      <td>1.0</td>\n",
       "      <td>7.503081e+06</td>\n",
       "      <td>5.792579e+06</td>\n",
       "      <td>17, 9, 8, 10, 11</td>\n",
       "      <td>0.081465</td>\n",
       "      <td>8.146495</td>\n",
       "      <td>Robinia  sp.</td>\n",
       "    </tr>\n",
       "    <tr>\n",
       "      <th>2</th>\n",
       "      <td>24.04.2012</td>\n",
       "      <td>Dzielnica Targówek</td>\n",
       "      <td>robinia  sp.</td>\n",
       "      <td>Robinia  sp.</td>\n",
       "      <td>D253007</td>\n",
       "      <td>20</td>\n",
       "      <td>5</td>\n",
       "      <td>2001.0</td>\n",
       "      <td>NaN</td>\n",
       "      <td>AAKG9OAAnAAF1O1AAK</td>\n",
       "      <td>AAKG9OAAnAAF1O1AAK</td>\n",
       "      <td>http://mapa.um.warszawa.pl/mvimages/san13/fig/...</td>\n",
       "      <td>1.0</td>\n",
       "      <td>7.503081e+06</td>\n",
       "      <td>5.792575e+06</td>\n",
       "      <td>20</td>\n",
       "      <td>0.063662</td>\n",
       "      <td>6.366198</td>\n",
       "      <td>Robinia  sp.</td>\n",
       "    </tr>\n",
       "    <tr>\n",
       "      <th>3</th>\n",
       "      <td>24.04.2012</td>\n",
       "      <td>Dzielnica Targówek</td>\n",
       "      <td>robinia  sp.</td>\n",
       "      <td>Robinia  sp.</td>\n",
       "      <td>D253006</td>\n",
       "      <td>30</td>\n",
       "      <td>4.5</td>\n",
       "      <td>2001.0</td>\n",
       "      <td>NaN</td>\n",
       "      <td>AAKG9OAAnAAF1O1AAJ</td>\n",
       "      <td>AAKG9OAAnAAF1O1AAJ</td>\n",
       "      <td>http://mapa.um.warszawa.pl/mvimages/san13/fig/...</td>\n",
       "      <td>1.0</td>\n",
       "      <td>7.503083e+06</td>\n",
       "      <td>5.792575e+06</td>\n",
       "      <td>30</td>\n",
       "      <td>0.095493</td>\n",
       "      <td>9.549297</td>\n",
       "      <td>Robinia  sp.</td>\n",
       "    </tr>\n",
       "    <tr>\n",
       "      <th>4</th>\n",
       "      <td>24.04.2012</td>\n",
       "      <td>Dzielnica Targówek</td>\n",
       "      <td>robinia  sp.</td>\n",
       "      <td>Robinia  sp.</td>\n",
       "      <td>D253004</td>\n",
       "      <td>120, 10, 11, 8</td>\n",
       "      <td>14</td>\n",
       "      <td>2001.0</td>\n",
       "      <td>NaN</td>\n",
       "      <td>AAKG9OAAnAAF1O1AAH</td>\n",
       "      <td>AAKG9OAAnAAF1O1AAH</td>\n",
       "      <td>http://mapa.um.warszawa.pl/mvimages/san13/fig/...</td>\n",
       "      <td>3.0</td>\n",
       "      <td>7.503084e+06</td>\n",
       "      <td>5.792577e+06</td>\n",
       "      <td>120, 10, 11, 8</td>\n",
       "      <td>0.385733</td>\n",
       "      <td>38.573327</td>\n",
       "      <td>Robinia  sp.</td>\n",
       "    </tr>\n",
       "  </tbody>\n",
       "</table>\n",
       "</div>"
      ],
      "text/plain": [
       "  Aktualność danych na dzień Jednostka zarządzająca  Nazwa polska  \\\n",
       "0                 24.04.2012     Dzielnica Targówek  robinia  sp.   \n",
       "1                 24.04.2012     Dzielnica Targówek  robinia  sp.   \n",
       "2                 24.04.2012     Dzielnica Targówek  robinia  sp.   \n",
       "3                 24.04.2012     Dzielnica Targówek  robinia  sp.   \n",
       "4                 24.04.2012     Dzielnica Targówek  robinia  sp.   \n",
       "\n",
       "  Nazwa łacińska Numer inwentaryzacyjny   Obwód pnia w cm Wysokość w m  \\\n",
       "0   Robinia  sp.                D253003                98           14   \n",
       "1   Robinia  sp.                D253005  17, 9, 8, 10, 11            5   \n",
       "2   Robinia  sp.                D253007                20            5   \n",
       "3   Robinia  sp.                D253006                30          4.5   \n",
       "4   Robinia  sp.                D253004    120, 10, 11, 8           14   \n",
       "\n",
       "    gtype  height                  id                id.1  \\\n",
       "0  2001.0     NaN  AAKG9OAAnAAF1O1AAG  AAKG9OAAnAAF1O1AAG   \n",
       "1  2001.0     NaN  AAKG9OAAnAAF1O1AAI  AAKG9OAAnAAF1O1AAI   \n",
       "2  2001.0     NaN  AAKG9OAAnAAF1O1AAK  AAKG9OAAnAAF1O1AAK   \n",
       "3  2001.0     NaN  AAKG9OAAnAAF1O1AAJ  AAKG9OAAnAAF1O1AAJ   \n",
       "4  2001.0     NaN  AAKG9OAAnAAF1O1AAH  AAKG9OAAnAAF1O1AAH   \n",
       "\n",
       "                                              imgurl  width             x  \\\n",
       "0  http://mapa.um.warszawa.pl/mvimages/san13/fig/...    3.0  7.503078e+06   \n",
       "1  http://mapa.um.warszawa.pl/mvimages/san13/fig/...    1.0  7.503081e+06   \n",
       "2  http://mapa.um.warszawa.pl/mvimages/san13/fig/...    1.0  7.503081e+06   \n",
       "3  http://mapa.um.warszawa.pl/mvimages/san13/fig/...    1.0  7.503083e+06   \n",
       "4  http://mapa.um.warszawa.pl/mvimages/san13/fig/...    3.0  7.503084e+06   \n",
       "\n",
       "              y              norm  normalized_trunk_diam  trunk_diam_cm  \\\n",
       "0  5.792584e+06                98               0.311944      31.194369   \n",
       "1  5.792579e+06  17, 9, 8, 10, 11               0.081465       8.146495   \n",
       "2  5.792575e+06                20               0.063662       6.366198   \n",
       "3  5.792575e+06                30               0.095493       9.549297   \n",
       "4  5.792577e+06    120, 10, 11, 8               0.385733      38.573327   \n",
       "\n",
       "  GATUNEK_Scientific  \n",
       "0       Robinia  sp.  \n",
       "1       Robinia  sp.  \n",
       "2       Robinia  sp.  \n",
       "3       Robinia  sp.  \n",
       "4       Robinia  sp.  "
      ]
     },
     "execution_count": 24,
     "metadata": {},
     "output_type": "execute_result"
    }
   ],
   "source": [
    "del newdata['GATUNEK_Scientific;OBWOD;SREDNICA_KORONY;O3;NO2;SO2;PM2.5']\n",
    "newdata.head()"
   ]
  },
  {
   "cell_type": "code",
   "execution_count": null,
   "metadata": {},
   "outputs": [],
   "source": []
  },
  {
   "cell_type": "code",
   "execution_count": 34,
   "metadata": {},
   "outputs": [
    {
     "data": {
      "text/plain": [
       "Tilia cordata                       2062\n",
       "Acer platanoides                     688\n",
       "Fraxinus pennsylvanica               547\n",
       "Quercus robur                        408\n",
       "Tilia  sp.                           360\n",
       "Quercus rubra                        291\n",
       "Robinia  sp.                         244\n",
       "Acer saccharinum                     177\n",
       "Acer pseudoplatanus                  175\n",
       "Acer negundo                         162\n",
       "Fraxinus excelsior                   127\n",
       "Platanus x hispanica                 107\n",
       "Aesculus  sp.                         86\n",
       "Aesculus xcarnea                      79\n",
       "Malus  sp.                            77\n",
       "Populus  sp.                          75\n",
       "Crataegus monogyna                    67\n",
       "Ginkgo biloba                         61\n",
       "Carpinus betulus                      61\n",
       "Aesculus hippocastanum                53\n",
       "Prunus cerasifera                     47\n",
       "Populus nigra                         46\n",
       "Sorbus intermedia                     46\n",
       "Sorbus aucuparia                      41\n",
       "Elaeagnus angustifolia                40\n",
       "Ulmus laevis                          36\n",
       "Prunus  sp.(wiśnia)                   33\n",
       "Betula pendula                        28\n",
       "Acer campestre                        26\n",
       "Pterocarya  sp.                       23\n",
       "                                    ... \n",
       "Ulmus  sp.                             4\n",
       "Magnolia  sp.                          4\n",
       "Populus nigra 'Italica'                4\n",
       "Ulmus minor                            3\n",
       "Populus tremula                        3\n",
       "Quercus  sp.                           3\n",
       "Betula  sp.                            3\n",
       "Robinia pseudoacacia                   3\n",
       "Morus  sp.                             3\n",
       "Morus alba                             2\n",
       "Fraxinus  sp.                          2\n",
       "Betula papyrifera                      2\n",
       "Prunus serrulata                       2\n",
       "Tilia 'Euchlora'                       2\n",
       "Crataegus sp.                          2\n",
       "Pinus nigra                            1\n",
       "Platanus sp.                           1\n",
       "Catalpa  sp.                           1\n",
       "Salix x sepulcralis 'Chrysocoma'       1\n",
       "Sorbus aria                            1\n",
       "Sorbus  sp.                            1\n",
       "Larix decidua                          1\n",
       "Prunus  sp.(morela)                    1\n",
       "Gleditsia triacanthos                  1\n",
       "Acer rubrum                            1\n",
       "Picea abies                            1\n",
       "Prunus domestica subsp. syriaca        1\n",
       "Sorbus torminalis                      1\n",
       "Pinus sylvestris                       1\n",
       "Elaeagnus  sp.                         1\n",
       "Name: GATUNEK_Scientific, Length: 78, dtype: int64"
      ]
     },
     "execution_count": 34,
     "metadata": {},
     "output_type": "execute_result"
    }
   ],
   "source": [
    "trees.GATUNEK_Scientific.value_counts()\n"
   ]
  },
  {
   "cell_type": "code",
   "execution_count": 96,
   "metadata": {},
   "outputs": [],
   "source": [
    "trees['OBWOD_KW'] = trees['OBWOD'] ** 2"
   ]
  },
  {
   "cell_type": "code",
   "execution_count": 120,
   "metadata": {},
   "outputs": [
    {
     "name": "stdout",
     "output_type": "stream",
     "text": [
      "25.529650894320145\n",
      "0.7072266349603087\n"
     ]
    }
   ],
   "source": [
    "x_train, x_validation, y_train, y_validation = train_test_split(\n",
    "    trees[['OBWOD', 'OBWOD_KW']],\n",
    "    trees['SREDNICA_KORONY'],\n",
    "    test_size=0.25,\n",
    ")\n",
    "\n",
    "regression = LinearRegression()\n",
    "regression.fit(\n",
    "    x_train,\n",
    "    y_train,\n",
    ")\n",
    "\n",
    "print(mean_absolute_percentage_error(y_train, regression.predict(x_train)))\n",
    "print(r2_score(y_train, regression.predict(x_train)))\n",
    "\n",
    "\n",
    "# mean_absolute_percentage_error(y_validation, regression.predict(x_validation))"
   ]
  },
  {
   "cell_type": "code",
   "execution_count": 93,
   "metadata": {},
   "outputs": [
    {
     "data": {
      "text/plain": [
       "4889"
      ]
     },
     "execution_count": 93,
     "metadata": {},
     "output_type": "execute_result"
    }
   ],
   "source": [
    "len(x_train)"
   ]
  },
  {
   "cell_type": "code",
   "execution_count": 121,
   "metadata": {},
   "outputs": [
    {
     "name": "stdout",
     "output_type": "stream",
     "text": [
      "0.05126278970523201 -9.939295099421934e-05 0.5977847620595296\n"
     ]
    },
    {
     "data": {
      "text/plain": [
       "<matplotlib.collections.PathCollection at 0x7f15e8ac2240>"
      ]
     },
     "execution_count": 121,
     "metadata": {},
     "output_type": "execute_result"
    },
    {
     "data": {
      "image/png": "[encoded data removed]",
      "text/plain": [
       "<Figure size 432x288 with 1 Axes>"
      ]
     },
     "metadata": {
      "needs_background": "light"
     },
     "output_type": "display_data"
    }
   ],
   "source": [
    "a1, a2, b = regression.coef_[0], regression.coef_[1], regression.intercept_\n",
    "print(a1, a2, b)\n",
    "fn = a1 * trees['OBWOD'] + a2 * trees['OBWOD_KW'] + b\n",
    "\n",
    "plt.plot(trees['OBWOD'], fn, 'b.')\n",
    "plt.scatter(trees['OBWOD'], trees['SREDNICA_KORONY'], c='m', alpha=0.3)"
   ]
  },
  {
   "cell_type": "code",
   "execution_count": 105,
   "metadata": {},
   "outputs": [
    {
     "name": "stdout",
     "output_type": "stream",
     "text": [
      "0.7891692272994983\n",
      "{'fit_intercept': True, 'normalize': False, 'copy_X': True, 'n_jobs': None, 'coef_': array([ 0.05864127, -0.00016696]), '_residues': 142.65669227791366, 'rank_': 2, 'singular_': array([164097.55156611,    205.00986227]), 'intercept_': 0.09930872718423478}\n"
     ]
    },
    {
     "data": {
      "text/plain": [
       "<matplotlib.collections.PathCollection at 0x7f15e8d4afd0>"
      ]
     },
     "execution_count": 105,
     "metadata": {},
     "output_type": "execute_result"
    },
    {
     "data": {
      "image/png": "[encoded data removed]",
      "text/plain": [
       "<Figure size 432x288 with 1 Axes>"
      ]
     },
     "metadata": {
      "needs_background": "light"
     },
     "output_type": "display_data"
    }
   ],
   "source": [
    "filter_by = 'Robinia  sp.'\n",
    "\n",
    "trees2 = trees[trees['GATUNEK_Scientific'] == filter_by]\n",
    "\n",
    "def get_reg(trees_df):\n",
    "    x_train, x_validation, y_train, y_validation = train_test_split(\n",
    "        trees_df[['OBWOD', 'OBWOD_KW']],\n",
    "        trees_df['SREDNICA_KORONY'],\n",
    "        test_size=0.2,\n",
    "    )\n",
    "\n",
    "    reg = LinearRegression()\n",
    "    reg.fit(\n",
    "        x_train,\n",
    "        y_train,\n",
    "    )\n",
    "    print(r2_score(y_validation, reg.predict(x_validation)))\n",
    "\n",
    "    \n",
    "    return reg\n",
    "\n",
    "reg = get_reg(trees2)\n",
    "print(vars(reg))\n",
    "\n",
    "\n",
    "\n",
    "a1, a2, b = reg.coef_[0], reg.coef_[1], reg.intercept_\n",
    "\n",
    "fn = a1 * trees2['OBWOD'] + a2 * trees2['OBWOD_KW'] + b\n",
    "\n",
    "plt.plot(trees2['OBWOD'], fn, 'b.')\n",
    "plt.scatter(trees2['OBWOD'], trees2['SREDNICA_KORONY'], c='m', alpha=0.3)\n"
   ]
  },
  {
   "cell_type": "code",
   "execution_count": 112,
   "metadata": {},
   "outputs": [
    {
     "name": "stdout",
     "output_type": "stream",
     "text": [
      "0.6769986688545043\n",
      "{'fit_intercept': True, 'normalize': False, 'copy_X': True, 'n_jobs': None, 'coef_': array([ 0.05196328, -0.0001242 ]), '_residues': 1440.2525041129743, 'rank_': 2, 'singular_': array([340542.48616332,    553.0601514 ]), 'intercept_': 0.6167425777475652}\n"
     ]
    },
    {
     "data": {
      "text/plain": [
       "<matplotlib.collections.PathCollection at 0x7f15e8b72d68>"
      ]
     },
     "execution_count": 112,
     "metadata": {},
     "output_type": "execute_result"
    },
    {
     "data": {
      "image/png": "[encoded data removed]",
      "text/plain": [
       "<Figure size 432x288 with 1 Axes>"
      ]
     },
     "metadata": {
      "needs_background": "light"
     },
     "output_type": "display_data"
    }
   ],
   "source": [
    "filter_by = 'Tilia cordata'\n",
    "\n",
    "trees2 = trees[trees['GATUNEK_Scientific'] == filter_by]\n",
    "\n",
    "def get_reg(trees_df):\n",
    "    x_train, x_validation, y_train, y_validation = train_test_split(\n",
    "        trees_df[['OBWOD', 'OBWOD_KW']],\n",
    "        trees_df['SREDNICA_KORONY'],\n",
    "        test_size=0.2,\n",
    "    )\n",
    "\n",
    "    reg = LinearRegression()\n",
    "    reg.fit(\n",
    "        x_train,\n",
    "        y_train,\n",
    "    )\n",
    "    print(r2_score(y_validation, reg.predict(x_validation)))\n",
    "\n",
    "    \n",
    "    return reg\n",
    "\n",
    "reg = get_reg(trees2)\n",
    "print(vars(reg))\n",
    "\n",
    "a1, a2, b = reg.coef_[0], reg.coef_[1], reg.intercept_\n",
    "\n",
    "fn = a1 * trees2['OBWOD'] + a2 * trees2['OBWOD_KW'] + b\n",
    "\n",
    "plt.plot(trees2['OBWOD'], fn, 'b.')\n",
    "plt.scatter(trees2['OBWOD'], trees2['SREDNICA_KORONY'], c='m', alpha=0.3)\n"
   ]
  }
 ],
 "metadata": {
  "kernelspec": {
   "display_name": "Python 3",
   "language": "python",
   "name": "python3"
  },
  "language_info": {
   "codemirror_mode": {
    "name": "ipython",
    "version": 3
   },
   "file_extension": ".py",
   "mimetype": "text/x-python",
   "name": "python",
   "nbconvert_exporter": "python",
   "pygments_lexer": "ipython3",
   "version": "3.7.2"
  }
 },
 "nbformat": 4,
 "nbformat_minor": 2
}
